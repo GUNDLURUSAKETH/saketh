{
 "cells": [
  {
   "cell_type": "markdown",
   "metadata": {
    "id": "SIUP1VEXOmp0"
   },
   "source": [
    "##Q7\n",
    "Calculate Mean, Median, Mode, Variance, Standard Deviation, Range &     comment about the values / draw inferences, for the given dataset. For Points, Score, Weigh. Find Mean, Median, Mode, Variance, Standard Deviation, and Range and also Comment about the values/ Draw some inferences."
   ]
  },
  {
   "cell_type": "code",
   "execution_count": 3,
   "metadata": {
    "id": "zI7R7BWqNYU4"
   },
   "outputs": [],
   "source": [
    "import pandas as pd\n",
    "import numpy as np\n",
    "import matplotlib.pyplot as plt\n",
    "import seaborn as sna"
   ]
  },
  {
   "cell_type": "code",
   "execution_count": 4,
   "metadata": {
    "colab": {
     "base_uri": "https://localhost:8080/",
     "height": 73
    },
    "id": "S2hU8ZkoNiFt",
    "outputId": "884474fa-5e0a-4fc8-8df3-f5bb333063f7"
   },
   "outputs": [
    {
     "ename": "ModuleNotFoundError",
     "evalue": "No module named 'google'",
     "output_type": "error",
     "traceback": [
      "\u001b[1;31m---------------------------------------------------------------------------\u001b[0m",
      "\u001b[1;31mModuleNotFoundError\u001b[0m                       Traceback (most recent call last)",
      "Cell \u001b[1;32mIn[4], line 1\u001b[0m\n\u001b[1;32m----> 1\u001b[0m \u001b[38;5;28;01mfrom\u001b[39;00m \u001b[38;5;21;01mgoogle\u001b[39;00m\u001b[38;5;21;01m.\u001b[39;00m\u001b[38;5;21;01mcolab\u001b[39;00m \u001b[38;5;28;01mimport\u001b[39;00m files\n\u001b[0;32m      2\u001b[0m uploaded \u001b[38;5;241m=\u001b[39m files\u001b[38;5;241m.\u001b[39mupload()\n",
      "\u001b[1;31mModuleNotFoundError\u001b[0m: No module named 'google'"
     ]
    }
   ],
   "source": [
    "from google.colab import files\n",
    "uploaded = files.upload()"
   ]
  },
  {
   "cell_type": "code",
   "execution_count": null,
   "metadata": {
    "id": "ilsddpU7Nrju"
   },
   "outputs": [],
   "source": [
    "Q7 = pd.read_csv(\"Q7.csv\")"
   ]
  },
  {
   "cell_type": "code",
   "execution_count": null,
   "metadata": {
    "colab": {
     "base_uri": "https://localhost:8080/",
     "height": 1000
    },
    "id": "zWE0LcApN4FQ",
    "outputId": "5a27ad8b-7db0-4b28-db3f-af01f68e34f2"
   },
   "outputs": [],
   "source": [
    "Q7"
   ]
  },
  {
   "cell_type": "code",
   "execution_count": null,
   "metadata": {
    "colab": {
     "base_uri": "https://localhost:8080/",
     "height": 300
    },
    "id": "r79aPgpaN4z9",
    "outputId": "7d0c5a1a-7dd2-41bc-f77d-c9feb7e7a74d"
   },
   "outputs": [],
   "source": [
    "Q7.describe()"
   ]
  },
  {
   "cell_type": "code",
   "execution_count": null,
   "metadata": {
    "colab": {
     "base_uri": "https://localhost:8080/"
    },
    "id": "BudiT-AYN6uu",
    "outputId": "bad6bcbf-6659-4146-c738-74e87056c5c3"
   },
   "outputs": [],
   "source": [
    "print(Q7.mean()) #mean of the Q7 data"
   ]
  },
  {
   "cell_type": "code",
   "execution_count": null,
   "metadata": {
    "colab": {
     "base_uri": "https://localhost:8080/"
    },
    "id": "1G7i2E7mOaNm",
    "outputId": "1678834a-f9c9-4d0c-87b9-12ea54fba032"
   },
   "outputs": [],
   "source": [
    "data = Q7[[\"Points\", \"Score\", \"Weigh\"]]\n",
    "print(data.median())  #median"
   ]
  },
  {
   "cell_type": "code",
   "execution_count": null,
   "metadata": {
    "colab": {
     "base_uri": "https://localhost:8080/"
    },
    "id": "N5Sgs3V6OkPA",
    "outputId": "b9231386-6362-4ed8-e15f-b87dc310ac87"
   },
   "outputs": [],
   "source": [
    "print(data.mode())#mode of the data"
   ]
  },
  {
   "cell_type": "code",
   "execution_count": null,
   "metadata": {
    "colab": {
     "base_uri": "https://localhost:8080/"
    },
    "id": "Hr66VCUiO4Tx",
    "outputId": "551a6b86-d602-44b1-b777-f72495c294d7"
   },
   "outputs": [],
   "source": [
    "print(data.std())   #standard Deviation"
   ]
  },
  {
   "cell_type": "code",
   "execution_count": null,
   "metadata": {
    "colab": {
     "base_uri": "https://localhost:8080/",
     "height": 1000
    },
    "id": "_k2RHL8BQwl1",
    "outputId": "70937318-69ab-4b85-ca19-bfaf732c5d3f"
   },
   "outputs": [],
   "source": [
    "data.describe()"
   ]
  },
  {
   "cell_type": "code",
   "execution_count": null,
   "metadata": {
    "colab": {
     "base_uri": "https://localhost:8080/"
    },
    "id": "CuaTFnw7RxkY",
    "outputId": "977333d8-71b5-4cee-b06c-56a2b36c7013"
   },
   "outputs": [],
   "source": [
    "print(data.var())  #variance of data"
   ]
  },
  {
   "cell_type": "code",
   "execution_count": null,
   "metadata": {
    "colab": {
     "base_uri": "https://localhost:8080/"
    },
    "id": "WrLeQqUNSlUx",
    "outputId": "aba2ecd1-2fbd-42a8-9b52-9e219462d3d1"
   },
   "outputs": [],
   "source": [
    "print(data.max() - data.min())    #Range of the data"
   ]
  },
  {
   "cell_type": "markdown",
   "metadata": {
    "id": "RcnUjT52TZHS"
   },
   "source": [
    "##Q9 (a)\n",
    "Calculate Skewness, Kurtosis & draw inferences on the following data\n",
    "Cars speed and distance\n",
    "Use Q9_a.csv\n",
    "\n",
    "SP and Weight(WT)\n",
    "Use Q9_b.csv\n"
   ]
  },
  {
   "cell_type": "code",
   "execution_count": null,
   "metadata": {
    "colab": {
     "base_uri": "https://localhost:8080/",
     "height": 73
    },
    "id": "pOWOLsH_TGBK",
    "outputId": "1ccac28d-0b75-406a-fb04-26e95754f9b0"
   },
   "outputs": [],
   "source": [
    "from google.colab import files\n",
    "uploaded = files.upload()"
   ]
  },
  {
   "cell_type": "code",
   "execution_count": null,
   "metadata": {
    "id": "-vne8AeBl1th"
   },
   "outputs": [],
   "source": [
    "data1 = pd.read_csv(\"Q9_a.csv\")"
   ]
  },
  {
   "cell_type": "code",
   "execution_count": null,
   "metadata": {
    "colab": {
     "base_uri": "https://localhost:8080/",
     "height": 206
    },
    "id": "7j8x6jhVl9R7",
    "outputId": "e3e56e1c-fc95-42b7-e95e-d9387d6b5161"
   },
   "outputs": [],
   "source": [
    "data1.head()"
   ]
  },
  {
   "cell_type": "code",
   "execution_count": null,
   "metadata": {
    "id": "tafdkLYfmBms"
   },
   "outputs": [],
   "source": [
    "data1 = data1[[\"speed\", \"dist\"]]    #selecting column"
   ]
  },
  {
   "cell_type": "code",
   "execution_count": null,
   "metadata": {
    "colab": {
     "base_uri": "https://localhost:8080/",
     "height": 206
    },
    "id": "aqIf5vHGmQ6I",
    "outputId": "3cde2282-8856-44e5-b02b-39dae747790d"
   },
   "outputs": [],
   "source": []
  },
  {
   "cell_type": "code",
   "execution_count": null,
   "metadata": {
    "colab": {
     "base_uri": "https://localhost:8080/"
    },
    "id": "IMnovqSbmSx0",
    "outputId": "d0cdbab3-b816-47af-fa3c-c5c842ab51df"
   },
   "outputs": [],
   "source": [
    "print(f\"The Skewness of the data is {data1.skew()}\");\n",
    "print(f\"The Kurtosis of the data is {data1.kurtosis()}\");"
   ]
  },
  {
   "cell_type": "markdown",
   "metadata": {
    "id": "jXw39_konMNZ"
   },
   "source": [
    "##Inferences\n",
    "1. The skewness is **negative** then the\n",
    "distribution of the **speed** data distribution is slightly **left skewed** so the tail is extended to the left.\n",
    "2. The skewness is **positive** for **dist** variable so the it has outliers at the right and the tail is extended to the right..\n",
    "3. The kurtosis of **speed** is Negative,It means that the data has lighter tails and is less peaked than a normal distribution (kurtosis of 3).\n",
    "4. The kurtosis of **dist** is Positive,It means that the data has lighter tails and is less peaked than a normal distribution (kurtosis of 3)."
   ]
  },
  {
   "cell_type": "markdown",
   "metadata": {
    "id": "3kefZTMQ6F3v"
   },
   "source": [
    "#Q9 (b)"
   ]
  },
  {
   "cell_type": "code",
   "execution_count": null,
   "metadata": {
    "colab": {
     "base_uri": "https://localhost:8080/",
     "height": 74
    },
    "id": "ry5avBrQmp8M",
    "outputId": "1d29ae51-d0b0-4125-f371-a1f3ca8ad64e"
   },
   "outputs": [],
   "source": [
    "from google.colab import files\n",
    "uploaded = files.upload()"
   ]
  },
  {
   "cell_type": "code",
   "execution_count": null,
   "metadata": {
    "id": "1Zsvtxij8B_V"
   },
   "outputs": [],
   "source": [
    "data2 = pd.read_csv(\"Q9_b.csv\")"
   ]
  },
  {
   "cell_type": "code",
   "execution_count": null,
   "metadata": {
    "colab": {
     "base_uri": "https://localhost:8080/",
     "height": 206
    },
    "id": "8jx61bK8767R",
    "outputId": "922ee879-9483-4794-ed25-79da388b5f21"
   },
   "outputs": [],
   "source": [
    "data2.head()"
   ]
  },
  {
   "cell_type": "code",
   "execution_count": null,
   "metadata": {
    "colab": {
     "base_uri": "https://localhost:8080/"
    },
    "id": "FdJgKjxv8Obx",
    "outputId": "d3b7400c-c74f-40b0-9324-bf3b11e06f8c"
   },
   "outputs": [],
   "source": [
    "data2[[\"SP\",\"WT\"]].skew()"
   ]
  },
  {
   "cell_type": "code",
   "execution_count": null,
   "metadata": {
    "colab": {
     "base_uri": "https://localhost:8080/"
    },
    "id": "X2sR1ZhI_NuW",
    "outputId": "7e532219-34e2-497f-ce4a-3a7c70cecac2"
   },
   "outputs": [],
   "source": [
    "data2[[\"SP\",\"WT\"]].kurtosis()"
   ]
  },
  {
   "cell_type": "markdown",
   "metadata": {
    "id": "fcMBzU6N_YUi"
   },
   "source": [
    "##Inferences\n",
    "1. The column SP has positive skewness so the tail would be at right and have the oultiers in the right\n",
    "2. The column SP has positive kurtosis, It means that the data has lighter tails and is less peaked than a normal distribution (kurtosis of 3)\n",
    "3. The column WT has negative Skewness so the tail would be at left and has the outlier in the left\n",
    "4. The column WT has positive kurtosis, It means that the data has lighter tails and is less peaked than a normal distribution (kurtosis of 3)\n"
   ]
  },
  {
   "cell_type": "markdown",
   "metadata": {
    "id": "pMo0bqKy8BqY"
   },
   "source": [
    "#Q 20)\n",
    "Calculate probability from the given dataset for the below cases\n",
    "\n",
    "Data _set: Cars.csv\n",
    "Calculate the probability of MPG  of Cars for the below cases.\n",
    "       MPG <- Cars$MPG<br>\n",
    "a.\tP(MPG>38)<br>\n",
    "b.\tP(MPG<40)<br>\n",
    "c.  P (20<MPG<50)\n"
   ]
  },
  {
   "cell_type": "code",
   "execution_count": 23,
   "metadata": {
    "id": "rB0ajib49K9i"
   },
   "outputs": [],
   "source": [
    "df=pd.read_csv('Cars.csv')"
   ]
  },
  {
   "cell_type": "code",
   "execution_count": 27,
   "metadata": {
    "colab": {
     "base_uri": "https://localhost:8080/",
     "height": 423
    },
    "id": "KQ2IdVt_9Vzm",
    "outputId": "bdbb1442-c7e1-4f0b-c7b5-eca2f37bcd64"
   },
   "outputs": [
    {
     "data": {
      "text/html": [
       "<div>\n",
       "<style scoped>\n",
       "    .dataframe tbody tr th:only-of-type {\n",
       "        vertical-align: middle;\n",
       "    }\n",
       "\n",
       "    .dataframe tbody tr th {\n",
       "        vertical-align: top;\n",
       "    }\n",
       "\n",
       "    .dataframe thead th {\n",
       "        text-align: right;\n",
       "    }\n",
       "</style>\n",
       "<table border=\"1\" class=\"dataframe\">\n",
       "  <thead>\n",
       "    <tr style=\"text-align: right;\">\n",
       "      <th></th>\n",
       "      <th>HP</th>\n",
       "      <th>MPG</th>\n",
       "      <th>VOL</th>\n",
       "      <th>SP</th>\n",
       "      <th>WT</th>\n",
       "    </tr>\n",
       "  </thead>\n",
       "  <tbody>\n",
       "    <tr>\n",
       "      <th>0</th>\n",
       "      <td>49</td>\n",
       "      <td>53.700681</td>\n",
       "      <td>89</td>\n",
       "      <td>104.185353</td>\n",
       "      <td>28.762059</td>\n",
       "    </tr>\n",
       "    <tr>\n",
       "      <th>1</th>\n",
       "      <td>55</td>\n",
       "      <td>50.013401</td>\n",
       "      <td>92</td>\n",
       "      <td>105.461264</td>\n",
       "      <td>30.466833</td>\n",
       "    </tr>\n",
       "    <tr>\n",
       "      <th>2</th>\n",
       "      <td>55</td>\n",
       "      <td>50.013401</td>\n",
       "      <td>92</td>\n",
       "      <td>105.461264</td>\n",
       "      <td>30.193597</td>\n",
       "    </tr>\n",
       "    <tr>\n",
       "      <th>3</th>\n",
       "      <td>70</td>\n",
       "      <td>45.696322</td>\n",
       "      <td>92</td>\n",
       "      <td>113.461264</td>\n",
       "      <td>30.632114</td>\n",
       "    </tr>\n",
       "    <tr>\n",
       "      <th>4</th>\n",
       "      <td>53</td>\n",
       "      <td>50.504232</td>\n",
       "      <td>92</td>\n",
       "      <td>104.461264</td>\n",
       "      <td>29.889149</td>\n",
       "    </tr>\n",
       "    <tr>\n",
       "      <th>...</th>\n",
       "      <td>...</td>\n",
       "      <td>...</td>\n",
       "      <td>...</td>\n",
       "      <td>...</td>\n",
       "      <td>...</td>\n",
       "    </tr>\n",
       "    <tr>\n",
       "      <th>76</th>\n",
       "      <td>322</td>\n",
       "      <td>36.900000</td>\n",
       "      <td>50</td>\n",
       "      <td>169.598513</td>\n",
       "      <td>16.132947</td>\n",
       "    </tr>\n",
       "    <tr>\n",
       "      <th>77</th>\n",
       "      <td>238</td>\n",
       "      <td>19.197888</td>\n",
       "      <td>115</td>\n",
       "      <td>150.576579</td>\n",
       "      <td>37.923113</td>\n",
       "    </tr>\n",
       "    <tr>\n",
       "      <th>78</th>\n",
       "      <td>263</td>\n",
       "      <td>34.000000</td>\n",
       "      <td>50</td>\n",
       "      <td>151.598513</td>\n",
       "      <td>15.769625</td>\n",
       "    </tr>\n",
       "    <tr>\n",
       "      <th>79</th>\n",
       "      <td>295</td>\n",
       "      <td>19.833733</td>\n",
       "      <td>119</td>\n",
       "      <td>167.944460</td>\n",
       "      <td>39.423099</td>\n",
       "    </tr>\n",
       "    <tr>\n",
       "      <th>80</th>\n",
       "      <td>236</td>\n",
       "      <td>12.101263</td>\n",
       "      <td>107</td>\n",
       "      <td>139.840817</td>\n",
       "      <td>34.948615</td>\n",
       "    </tr>\n",
       "  </tbody>\n",
       "</table>\n",
       "<p>81 rows × 5 columns</p>\n",
       "</div>"
      ],
      "text/plain": [
       "     HP        MPG  VOL          SP         WT\n",
       "0    49  53.700681   89  104.185353  28.762059\n",
       "1    55  50.013401   92  105.461264  30.466833\n",
       "2    55  50.013401   92  105.461264  30.193597\n",
       "3    70  45.696322   92  113.461264  30.632114\n",
       "4    53  50.504232   92  104.461264  29.889149\n",
       "..  ...        ...  ...         ...        ...\n",
       "76  322  36.900000   50  169.598513  16.132947\n",
       "77  238  19.197888  115  150.576579  37.923113\n",
       "78  263  34.000000   50  151.598513  15.769625\n",
       "79  295  19.833733  119  167.944460  39.423099\n",
       "80  236  12.101263  107  139.840817  34.948615\n",
       "\n",
       "[81 rows x 5 columns]"
      ]
     },
     "execution_count": 27,
     "metadata": {},
     "output_type": "execute_result"
    }
   ],
   "source": [
    "df"
   ]
  },
  {
   "cell_type": "code",
   "execution_count": 29,
   "metadata": {
    "id": "Yi9o2rW39XMB"
   },
   "outputs": [],
   "source": [
    "data = df[[\"MPG\",\"VOL\",\"HP\"]]\n"
   ]
  },
  {
   "cell_type": "code",
   "execution_count": 30,
   "metadata": {
    "colab": {
     "base_uri": "https://localhost:8080/",
     "height": 206
    },
    "id": "n3D0pUw4F7Z3",
    "outputId": "aa295c8e-f12d-4f8e-bf04-4766b7bb1169"
   },
   "outputs": [
    {
     "data": {
      "text/html": [
       "<div>\n",
       "<style scoped>\n",
       "    .dataframe tbody tr th:only-of-type {\n",
       "        vertical-align: middle;\n",
       "    }\n",
       "\n",
       "    .dataframe tbody tr th {\n",
       "        vertical-align: top;\n",
       "    }\n",
       "\n",
       "    .dataframe thead th {\n",
       "        text-align: right;\n",
       "    }\n",
       "</style>\n",
       "<table border=\"1\" class=\"dataframe\">\n",
       "  <thead>\n",
       "    <tr style=\"text-align: right;\">\n",
       "      <th></th>\n",
       "      <th>MPG</th>\n",
       "      <th>VOL</th>\n",
       "      <th>HP</th>\n",
       "    </tr>\n",
       "  </thead>\n",
       "  <tbody>\n",
       "    <tr>\n",
       "      <th>0</th>\n",
       "      <td>53.700681</td>\n",
       "      <td>89</td>\n",
       "      <td>49</td>\n",
       "    </tr>\n",
       "    <tr>\n",
       "      <th>1</th>\n",
       "      <td>50.013401</td>\n",
       "      <td>92</td>\n",
       "      <td>55</td>\n",
       "    </tr>\n",
       "    <tr>\n",
       "      <th>2</th>\n",
       "      <td>50.013401</td>\n",
       "      <td>92</td>\n",
       "      <td>55</td>\n",
       "    </tr>\n",
       "    <tr>\n",
       "      <th>3</th>\n",
       "      <td>45.696322</td>\n",
       "      <td>92</td>\n",
       "      <td>70</td>\n",
       "    </tr>\n",
       "    <tr>\n",
       "      <th>4</th>\n",
       "      <td>50.504232</td>\n",
       "      <td>92</td>\n",
       "      <td>53</td>\n",
       "    </tr>\n",
       "  </tbody>\n",
       "</table>\n",
       "</div>"
      ],
      "text/plain": [
       "         MPG  VOL  HP\n",
       "0  53.700681   89  49\n",
       "1  50.013401   92  55\n",
       "2  50.013401   92  55\n",
       "3  45.696322   92  70\n",
       "4  50.504232   92  53"
      ]
     },
     "execution_count": 30,
     "metadata": {},
     "output_type": "execute_result"
    }
   ],
   "source": [
    "data.head()"
   ]
  },
  {
   "cell_type": "code",
   "execution_count": 40,
   "metadata": {
    "id": "TwUKqEkDGBmj"
   },
   "outputs": [],
   "source": [
    "#a. P(MPG>38)\n",
    "data1 = df[\"MPG\"]"
   ]
  },
  {
   "cell_type": "code",
   "execution_count": 41,
   "metadata": {
    "id": "EnJu9fjUGoRT"
   },
   "outputs": [],
   "source": [
    "mean = data1.mean()\n",
    "stdv = data1.std()\n",
    "from scipy import stats"
   ]
  },
  {
   "cell_type": "code",
   "execution_count": 42,
   "metadata": {
    "colab": {
     "base_uri": "https://localhost:8080/"
    },
    "id": "-HswkfuxGruP",
    "outputId": "db03627a-9a83-42ea-e989-658f07ffd64e"
   },
   "outputs": [
    {
     "name": "stdout",
     "output_type": "stream",
     "text": [
      "Probability of MPG>38 is 0.34759392515827137\n"
     ]
    }
   ],
   "source": [
    "prob1 = 1 - stats.norm.cdf(38,mean,stdv)\n",
    "print(f\"Probability of MPG>38 is {prob1}\")"
   ]
  },
  {
   "cell_type": "code",
   "execution_count": 35,
   "metadata": {
    "id": "GrZ3j_XFHKFR"
   },
   "outputs": [],
   "source": [
    "#P(MPG<40)\n",
    "mean1 = data1.mean()\n",
    "stdv1 = data1.std()"
   ]
  },
  {
   "cell_type": "code",
   "execution_count": 36,
   "metadata": {
    "colab": {
     "base_uri": "https://localhost:8080/"
    },
    "id": "gxEC9zX7Hlfz",
    "outputId": "971047fe-67be-47ec-b96c-8f2d9f28f416"
   },
   "outputs": [
    {
     "name": "stdout",
     "output_type": "stream",
     "text": [
      "Probability of MPG<40 is 0.7293498762151609\n"
     ]
    }
   ],
   "source": [
    "prob2 = stats.norm.cdf(40,mean1,stdv1)\n",
    "print(f\"Probability of MPG<40 is {prob2}\")"
   ]
  },
  {
   "cell_type": "code",
   "execution_count": 37,
   "metadata": {
    "id": "9ZUyqMGmHtSR"
   },
   "outputs": [],
   "source": [
    "#P (20<MPG<50)\n",
    "mean3 = data1.mean()\n",
    "stdv3 = data1.std()"
   ]
  },
  {
   "cell_type": "code",
   "execution_count": 38,
   "metadata": {
    "id": "DPKjAAECKKJk"
   },
   "outputs": [],
   "source": [
    "d = stats.norm.cdf(50, mean3, stdv3) - stats.norm.cdf(20, mean3, stdv3)"
   ]
  },
  {
   "cell_type": "code",
   "execution_count": 39,
   "metadata": {
    "colab": {
     "base_uri": "https://localhost:8080/"
    },
    "id": "kfpk81mgK6-S",
    "outputId": "e04b1a0c-64fb-455c-b6ae-532d3a72f213"
   },
   "outputs": [
    {
     "name": "stdout",
     "output_type": "stream",
     "text": [
      "The probability of lying between 20 and 50 is 0.8988689169682047\n"
     ]
    }
   ],
   "source": [
    "print(f\"The probability of lying between 20 and 50 is {d}\")"
   ]
  },
  {
   "cell_type": "markdown",
   "metadata": {
    "id": "3BKv7Cc2NAc1"
   },
   "source": [
    "#Q 21)\n",
    " Check whether the data follows normal distribution<br>"
   ]
  },
  {
   "cell_type": "markdown",
   "metadata": {
    "id": "K-bPVOGGPx6c"
   },
   "source": [
    "a)\tCheck whether the MPG of Cars follows Normal Distribution\n",
    "        Dataset: Cars.csv"
   ]
  },
  {
   "cell_type": "code",
   "execution_count": 13,
   "metadata": {
    "colab": {
     "base_uri": "https://localhost:8080/"
    },
    "id": "XcGtn1VGMiOL",
    "outputId": "4450678e-863c-4d45-b828-11b21a062c29"
   },
   "outputs": [
    {
     "ename": "NameError",
     "evalue": "name 'data1' is not defined",
     "output_type": "error",
     "traceback": [
      "\u001b[1;31m---------------------------------------------------------------------------\u001b[0m",
      "\u001b[1;31mNameError\u001b[0m                                 Traceback (most recent call last)",
      "Cell \u001b[1;32mIn[13], line 1\u001b[0m\n\u001b[1;32m----> 1\u001b[0m data1\u001b[38;5;241m.\u001b[39mhead()\n",
      "\u001b[1;31mNameError\u001b[0m: name 'data1' is not defined"
     ]
    }
   ],
   "source": [
    "data1.head()"
   ]
  },
  {
   "cell_type": "code",
   "execution_count": 14,
   "metadata": {
    "colab": {
     "base_uri": "https://localhost:8080/",
     "height": 489
    },
    "id": "2prTNiPbNN9v",
    "outputId": "1e7eb012-d84c-4609-920e-6f952616cd9b"
   },
   "outputs": [
    {
     "ename": "NameError",
     "evalue": "name 'data1' is not defined",
     "output_type": "error",
     "traceback": [
      "\u001b[1;31m---------------------------------------------------------------------------\u001b[0m",
      "\u001b[1;31mNameError\u001b[0m                                 Traceback (most recent call last)",
      "Cell \u001b[1;32mIn[14], line 1\u001b[0m\n\u001b[1;32m----> 1\u001b[0m plt\u001b[38;5;241m.\u001b[39mplot(data1)\n\u001b[0;32m      2\u001b[0m plt\u001b[38;5;241m.\u001b[39mtitle(\u001b[38;5;124m\"\u001b[39m\u001b[38;5;124mLine Chart for Single Column\u001b[39m\u001b[38;5;124m\"\u001b[39m)\n\u001b[0;32m      3\u001b[0m plt\u001b[38;5;241m.\u001b[39mxlabel(\u001b[38;5;124m\"\u001b[39m\u001b[38;5;124mIndex or Time\u001b[39m\u001b[38;5;124m\"\u001b[39m)\n",
      "\u001b[1;31mNameError\u001b[0m: name 'data1' is not defined"
     ]
    }
   ],
   "source": [
    "plt.plot(data1)\n",
    "plt.title(\"Line Chart for Single Column\")\n",
    "plt.xlabel(\"Index or Time\")\n",
    "plt.ylabel(\"Column Values\")\n"
   ]
  },
  {
   "cell_type": "code",
   "execution_count": null,
   "metadata": {
    "colab": {
     "base_uri": "https://localhost:8080/",
     "height": 430
    },
    "id": "383y_QufNSiC",
    "outputId": "e69a50ef-4cbd-4cd5-b35a-ca712acfc77b"
   },
   "outputs": [],
   "source": [
    "plt.hist(data1, bins=20, edgecolor='black');"
   ]
  },
  {
   "cell_type": "code",
   "execution_count": null,
   "metadata": {
    "colab": {
     "base_uri": "https://localhost:8080/",
     "height": 472
    },
    "id": "Hz5pbD0NOM-H",
    "outputId": "d795aab0-836f-4e02-9bfa-bfb53b3f10cf"
   },
   "outputs": [],
   "source": [
    "stats.probplot(data1, dist=\"norm\", plot=plt);"
   ]
  },
  {
   "cell_type": "code",
   "execution_count": null,
   "metadata": {
    "id": "Y5HCQvWmPSxf"
   },
   "outputs": [],
   "source": []
  },
  {
   "cell_type": "markdown",
   "metadata": {
    "id": "T35SlpkwP3jU"
   },
   "source": [
    "\n",
    "b)\tCheck Whether the Adipose Tissue (AT) and Waist Circumference(Waist)  from wc-at data set  follows Normal Distribution\n",
    "       Dataset: wc-at.csv"
   ]
  },
  {
   "cell_type": "code",
   "execution_count": null,
   "metadata": {
    "colab": {
     "base_uri": "https://localhost:8080/",
     "height": 73
    },
    "id": "r6prDH1rP5aD",
    "outputId": "bc05f8e8-5d49-47a5-8d98-4022ebaf759a"
   },
   "outputs": [],
   "source": [
    "from google.colab import files\n",
    "uploaded = files.upload()"
   ]
  },
  {
   "cell_type": "code",
   "execution_count": null,
   "metadata": {
    "id": "SEgL4hu5QBys"
   },
   "outputs": [],
   "source": [
    "adipose = pd.read_csv(\"wc-at.csv\")"
   ]
  },
  {
   "cell_type": "code",
   "execution_count": null,
   "metadata": {
    "colab": {
     "base_uri": "https://localhost:8080/",
     "height": 206
    },
    "id": "uxt8srxbQKKS",
    "outputId": "1669ac5b-5c6a-46e6-ae19-b92e1bb40e24"
   },
   "outputs": [],
   "source": [
    "adipose.head()"
   ]
  },
  {
   "cell_type": "code",
   "execution_count": null,
   "metadata": {
    "colab": {
     "base_uri": "https://localhost:8080/",
     "height": 430
    },
    "id": "_kweJy7zQLwC",
    "outputId": "184ef523-2309-4891-9e5a-d5604989bb36"
   },
   "outputs": [],
   "source": [
    "plt.hist(adipose[[\"Waist\",\"AT\"]]);"
   ]
  },
  {
   "cell_type": "code",
   "execution_count": null,
   "metadata": {
    "colab": {
     "base_uri": "https://localhost:8080/",
     "height": 472
    },
    "id": "1zbM3ls2QVgJ",
    "outputId": "46806b3d-f63b-4d5b-b8e2-e927c3c0b7ac"
   },
   "outputs": [],
   "source": [
    "data2 = adipose[\"Waist\"]\n",
    "stats.probplot(data2, dist=\"norm\", plot=plt);"
   ]
  },
  {
   "cell_type": "code",
   "execution_count": null,
   "metadata": {
    "id": "zgtqCiJ6QtXN"
   },
   "outputs": [],
   "source": []
  }
 ],
 "metadata": {
  "colab": {
   "provenance": [],
   "toc_visible": true
  },
  "kernelspec": {
   "display_name": "Python 3 (ipykernel)",
   "language": "python",
   "name": "python3"
  },
  "language_info": {
   "codemirror_mode": {
    "name": "ipython",
    "version": 3
   },
   "file_extension": ".py",
   "mimetype": "text/x-python",
   "name": "python",
   "nbconvert_exporter": "python",
   "pygments_lexer": "ipython3",
   "version": "3.11.4"
  }
 },
 "nbformat": 4,
 "nbformat_minor": 1
}
